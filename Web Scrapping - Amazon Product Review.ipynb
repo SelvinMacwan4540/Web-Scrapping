{
 "cells": [
  {
   "cell_type": "code",
   "execution_count": 1,
   "id": "after-hayes",
   "metadata": {},
   "outputs": [],
   "source": [
    "import requests\n",
    "from bs4 import BeautifulSoup as bs"
   ]
  },
  {
   "cell_type": "code",
   "execution_count": 21,
   "id": "spiritual-challenge",
   "metadata": {},
   "outputs": [],
   "source": [
    "link =\"https://www.amazon.in/OnePlus-Mirror-Black-128GB-Storage/product-reviews/B07DJHV6VZ/ref=cm_cr_dp_d_show_all_btm?ie=UTF8&reviewerType=all_reviews\""
   ]
  },
  {
   "cell_type": "code",
   "execution_count": 26,
   "id": "musical-cologne",
   "metadata": {},
   "outputs": [
    {
     "data": {
      "text/plain": [
       "<Response [200]>"
      ]
     },
     "execution_count": 26,
     "metadata": {},
     "output_type": "execute_result"
    }
   ],
   "source": [
    "page = requests.get(link)\n",
    "page"
   ]
  },
  {
   "cell_type": "code",
   "execution_count": 23,
   "id": "italic-julian",
   "metadata": {},
   "outputs": [],
   "source": [
    "soup = bs(page.content, 'html.parser')"
   ]
  },
  {
   "cell_type": "code",
   "execution_count": 24,
   "id": "dynamic-subcommittee",
   "metadata": {},
   "outputs": [
    {
     "data": {
      "text/plain": [
       "[<span class=\"a-profile-name\">Tanmay Shukla</span>,\n",
       " <span class=\"a-profile-name\">Surbhi Garg</span>,\n",
       " <span class=\"a-profile-name\">Tanmay Shukla</span>,\n",
       " <span class=\"a-profile-name\">Surbhi Garg</span>,\n",
       " <span class=\"a-profile-name\">klknow</span>,\n",
       " <span class=\"a-profile-name\">abdulkadir garari</span>,\n",
       " <span class=\"a-profile-name\">Anshu K.</span>,\n",
       " <span class=\"a-profile-name\">nagaraj s.</span>,\n",
       " <span class=\"a-profile-name\">Regidi Mahesh Dora</span>,\n",
       " <span class=\"a-profile-name\">Aakash Sinha</span>,\n",
       " <span class=\"a-profile-name\">Mumtaz Alam</span>,\n",
       " <span class=\"a-profile-name\">Vaibhav Narvaria</span>]"
      ]
     },
     "execution_count": 24,
     "metadata": {},
     "output_type": "execute_result"
    }
   ],
   "source": [
    "names = soup.find_all('span', {'class' : 'a-profile-name'})\n",
    "names"
   ]
  },
  {
   "cell_type": "code",
   "execution_count": 27,
   "id": "parental-instrumentation",
   "metadata": {},
   "outputs": [],
   "source": [
    "customer_names = []\n",
    "for i in range (0,len(names)):\n",
    "    customer_names.append(names[i].get_text())"
   ]
  },
  {
   "cell_type": "code",
   "execution_count": 30,
   "id": "published-telephone",
   "metadata": {},
   "outputs": [
    {
     "data": {
      "text/plain": [
       "['Tanmay Shukla',\n",
       " 'Surbhi Garg',\n",
       " 'Tanmay Shukla',\n",
       " 'Surbhi Garg',\n",
       " 'klknow',\n",
       " 'abdulkadir garari',\n",
       " 'Anshu K.',\n",
       " 'nagaraj s.',\n",
       " 'Regidi Mahesh Dora',\n",
       " 'Aakash Sinha',\n",
       " 'Mumtaz Alam',\n",
       " 'Vaibhav Narvaria']"
      ]
     },
     "execution_count": 30,
     "metadata": {},
     "output_type": "execute_result"
    }
   ],
   "source": [
    "customer_names"
   ]
  },
  {
   "cell_type": "code",
   "execution_count": 31,
   "id": "bridal-intensity",
   "metadata": {},
   "outputs": [
    {
     "data": {
      "text/plain": [
       "'Surbhi Garg'"
      ]
     },
     "execution_count": 31,
     "metadata": {},
     "output_type": "execute_result"
    }
   ],
   "source": [
    "customer_names.pop(0)\n",
    "customer_names.pop(0)"
   ]
  },
  {
   "cell_type": "code",
   "execution_count": 32,
   "id": "toxic-bailey",
   "metadata": {},
   "outputs": [
    {
     "data": {
      "text/plain": [
       "['Tanmay Shukla',\n",
       " 'Surbhi Garg',\n",
       " 'klknow',\n",
       " 'abdulkadir garari',\n",
       " 'Anshu K.',\n",
       " 'nagaraj s.',\n",
       " 'Regidi Mahesh Dora',\n",
       " 'Aakash Sinha',\n",
       " 'Mumtaz Alam',\n",
       " 'Vaibhav Narvaria']"
      ]
     },
     "execution_count": 32,
     "metadata": {},
     "output_type": "execute_result"
    }
   ],
   "source": [
    "customer_names"
   ]
  },
  {
   "cell_type": "code",
   "execution_count": 64,
   "id": "known-administrator",
   "metadata": {
    "scrolled": true
   },
   "outputs": [
    {
     "data": {
      "text/plain": [
       "[<a class=\"a-size-base a-link-normal review-title a-color-base review-title-content a-text-bold\" data-hook=\"review-title\" href=\"/gp/customer-reviews/RG52NAY3E12BR?ASIN=B07DJHV6VZ\">\n",
       " <span>Flagship Killer</span>\n",
       " </a>,\n",
       " <a class=\"a-size-base a-link-normal review-title a-color-base review-title-content a-text-bold\" data-hook=\"review-title\" href=\"/gp/customer-reviews/R1EE0UTB5657D6?ASIN=B07DJHV6VZ\">\n",
       " <span>Camera quality is very poor.</span>\n",
       " </a>,\n",
       " <a class=\"a-size-base a-link-normal review-title a-color-base review-title-content a-text-bold\" data-hook=\"review-title\" href=\"/gp/customer-reviews/R33GOMNOW0H21X?ASIN=B07DJHV6VZ\">\n",
       " <span>Dead on arrival</span>\n",
       " </a>,\n",
       " <a class=\"a-size-base a-link-normal review-title a-color-base review-title-content a-text-bold\" data-hook=\"review-title\" href=\"/gp/customer-reviews/R22HPI22GRD028?ASIN=B07DJHV6VZ\">\n",
       " <span>Not worth to buy 6T</span>\n",
       " </a>,\n",
       " <a class=\"a-size-base a-link-normal review-title a-color-base review-title-content a-text-bold\" data-hook=\"review-title\" href=\"/gp/customer-reviews/RP84LWZU2465S?ASIN=B07DJHV6VZ\">\n",
       " <span>Beautiful phone</span>\n",
       " </a>,\n",
       " <a class=\"a-size-base a-link-normal review-title a-color-base review-title-content a-text-bold\" data-hook=\"review-title\" href=\"/gp/customer-reviews/R17C4CZRJA22GP?ASIN=B07DJHV6VZ\">\n",
       " <span>Awesome value for the money</span>\n",
       " </a>,\n",
       " <a class=\"a-size-base a-link-normal review-title a-color-base review-title-content a-text-bold\" data-hook=\"review-title\" href=\"/gp/customer-reviews/R8RFWZ3LN6RS?ASIN=B07DJHV6VZ\">\n",
       " <span>NO WAY GOING TO BE A CUSTOMER OF A COMPANY (Oneplus6T) THAT CANNOT GET NEW CUSTOMER SERVICE CORRECT</span>\n",
       " </a>,\n",
       " <a class=\"a-size-base a-link-normal review-title a-color-base review-title-content a-text-bold\" data-hook=\"review-title\" href=\"/gp/customer-reviews/R3E54TMP6XTNA4?ASIN=B07DJHV6VZ\">\n",
       " <span>OnePlust 6T McLaren Edition - Salute to Speed!</span>\n",
       " </a>,\n",
       " <a class=\"a-size-base a-link-normal review-title a-color-base review-title-content a-text-bold\" data-hook=\"review-title\" href=\"/gp/customer-reviews/RI11MIG62RRBL?ASIN=B07DJHV6VZ\">\n",
       " <span>Waste of money</span>\n",
       " </a>,\n",
       " <a class=\"a-size-base a-link-normal review-title a-color-base review-title-content a-text-bold\" data-hook=\"review-title\" href=\"/gp/customer-reviews/R2MDSPX08USH3E?ASIN=B07DJHV6VZ\">\n",
       " <span>Superb phone</span>\n",
       " </a>]"
      ]
     },
     "execution_count": 64,
     "metadata": {},
     "output_type": "execute_result"
    }
   ],
   "source": [
    "title = soup.find_all('a', class_ =\"a-size-base a-link-normal review-title a-color-base review-title-content a-text-bold\")\n",
    "title"
   ]
  },
  {
   "cell_type": "code",
   "execution_count": 65,
   "id": "stone-rendering",
   "metadata": {},
   "outputs": [
    {
     "data": {
      "text/plain": [
       "['\\nFlagship Killer\\n',\n",
       " '\\nCamera quality is very poor.\\n',\n",
       " '\\nDead on arrival\\n',\n",
       " '\\nNot worth to buy 6T\\n',\n",
       " '\\nBeautiful phone\\n',\n",
       " '\\nAwesome value for the money\\n',\n",
       " '\\nNO WAY GOING TO BE A CUSTOMER OF A COMPANY (Oneplus6T) THAT CANNOT GET NEW CUSTOMER SERVICE CORRECT\\n',\n",
       " '\\nOnePlust 6T McLaren Edition - Salute to Speed!\\n',\n",
       " '\\nWaste of money\\n',\n",
       " '\\nSuperb phone\\n']"
      ]
     },
     "execution_count": 65,
     "metadata": {},
     "output_type": "execute_result"
    }
   ],
   "source": [
    "review_title = []\n",
    "for i in range(0,len(title)):\n",
    "    review_title.append(title[i].get_text())\n",
    "review_title"
   ]
  },
  {
   "cell_type": "code",
   "execution_count": 66,
   "id": "conventional-vietnam",
   "metadata": {},
   "outputs": [],
   "source": [
    "review_title[:] = [title.lstrip('\\n') for title in review_title]"
   ]
  },
  {
   "cell_type": "code",
   "execution_count": 67,
   "id": "finished-roberts",
   "metadata": {},
   "outputs": [
    {
     "data": {
      "text/plain": [
       "['Flagship Killer\\n',\n",
       " 'Camera quality is very poor.\\n',\n",
       " 'Dead on arrival\\n',\n",
       " 'Not worth to buy 6T\\n',\n",
       " 'Beautiful phone\\n',\n",
       " 'Awesome value for the money\\n',\n",
       " 'NO WAY GOING TO BE A CUSTOMER OF A COMPANY (Oneplus6T) THAT CANNOT GET NEW CUSTOMER SERVICE CORRECT\\n',\n",
       " 'OnePlust 6T McLaren Edition - Salute to Speed!\\n',\n",
       " 'Waste of money\\n',\n",
       " 'Superb phone\\n']"
      ]
     },
     "execution_count": 67,
     "metadata": {},
     "output_type": "execute_result"
    }
   ],
   "source": [
    "review_title"
   ]
  },
  {
   "cell_type": "code",
   "execution_count": 68,
   "id": "adaptive-consolidation",
   "metadata": {},
   "outputs": [],
   "source": [
    "review_title[:] = [title.rstrip('\\n') for title in review_title]"
   ]
  },
  {
   "cell_type": "code",
   "execution_count": 69,
   "id": "balanced-prince",
   "metadata": {},
   "outputs": [
    {
     "data": {
      "text/plain": [
       "['Flagship Killer',\n",
       " 'Camera quality is very poor.',\n",
       " 'Dead on arrival',\n",
       " 'Not worth to buy 6T',\n",
       " 'Beautiful phone',\n",
       " 'Awesome value for the money',\n",
       " 'NO WAY GOING TO BE A CUSTOMER OF A COMPANY (Oneplus6T) THAT CANNOT GET NEW CUSTOMER SERVICE CORRECT',\n",
       " 'OnePlust 6T McLaren Edition - Salute to Speed!',\n",
       " 'Waste of money',\n",
       " 'Superb phone']"
      ]
     },
     "execution_count": 69,
     "metadata": {},
     "output_type": "execute_result"
    }
   ],
   "source": [
    "review_title"
   ]
  },
  {
   "cell_type": "code",
   "execution_count": 71,
   "id": "healthy-devil",
   "metadata": {},
   "outputs": [
    {
     "data": {
      "text/plain": [
       "[<i class=\"a-icon a-icon-star a-star-5 review-rating\" data-hook=\"review-star-rating-view-point\"><span class=\"a-icon-alt\">5.0 out of 5 stars</span></i>,\n",
       " <i class=\"a-icon a-icon-star a-star-2 review-rating\" data-hook=\"review-star-rating-view-point\"><span class=\"a-icon-alt\">2.0 out of 5 stars</span></i>,\n",
       " <i class=\"a-icon a-icon-star a-star-5 review-rating\" data-hook=\"review-star-rating\"><span class=\"a-icon-alt\">5.0 out of 5 stars</span></i>,\n",
       " <i class=\"a-icon a-icon-star a-star-2 review-rating\" data-hook=\"review-star-rating\"><span class=\"a-icon-alt\">2.0 out of 5 stars</span></i>,\n",
       " <i class=\"a-icon a-icon-star a-star-1 review-rating\" data-hook=\"review-star-rating\"><span class=\"a-icon-alt\">1.0 out of 5 stars</span></i>,\n",
       " <i class=\"a-icon a-icon-star a-star-1 review-rating\" data-hook=\"review-star-rating\"><span class=\"a-icon-alt\">1.0 out of 5 stars</span></i>,\n",
       " <i class=\"a-icon a-icon-star a-star-4 review-rating\" data-hook=\"review-star-rating\"><span class=\"a-icon-alt\">4.0 out of 5 stars</span></i>,\n",
       " <i class=\"a-icon a-icon-star a-star-5 review-rating\" data-hook=\"review-star-rating\"><span class=\"a-icon-alt\">5.0 out of 5 stars</span></i>,\n",
       " <i class=\"a-icon a-icon-star a-star-1 review-rating\" data-hook=\"review-star-rating\"><span class=\"a-icon-alt\">1.0 out of 5 stars</span></i>,\n",
       " <i class=\"a-icon a-icon-star a-star-5 review-rating\" data-hook=\"review-star-rating\"><span class=\"a-icon-alt\">5.0 out of 5 stars</span></i>,\n",
       " <i class=\"a-icon a-icon-star a-star-1 review-rating\" data-hook=\"review-star-rating\"><span class=\"a-icon-alt\">1.0 out of 5 stars</span></i>,\n",
       " <i class=\"a-icon a-icon-star a-star-5 review-rating\" data-hook=\"review-star-rating\"><span class=\"a-icon-alt\">5.0 out of 5 stars</span></i>]"
      ]
     },
     "execution_count": 71,
     "metadata": {},
     "output_type": "execute_result"
    }
   ],
   "source": [
    "rattings = soup.find_all(\"i\", class_ = \"review-rating\")\n",
    "rattings"
   ]
  },
  {
   "cell_type": "code",
   "execution_count": 75,
   "id": "small-vegetation",
   "metadata": {},
   "outputs": [
    {
     "data": {
      "text/plain": [
       "['5.0 out of 5 stars',\n",
       " '2.0 out of 5 stars',\n",
       " '5.0 out of 5 stars',\n",
       " '2.0 out of 5 stars',\n",
       " '1.0 out of 5 stars',\n",
       " '1.0 out of 5 stars',\n",
       " '4.0 out of 5 stars',\n",
       " '5.0 out of 5 stars',\n",
       " '1.0 out of 5 stars',\n",
       " '5.0 out of 5 stars',\n",
       " '1.0 out of 5 stars',\n",
       " '5.0 out of 5 stars']"
      ]
     },
     "execution_count": 75,
     "metadata": {},
     "output_type": "execute_result"
    }
   ],
   "source": [
    "rate = []\n",
    "for i in range(0,len(rattings)):\n",
    "    rate.append(rattings[i].get_text())\n",
    "rate"
   ]
  },
  {
   "cell_type": "code",
   "execution_count": 76,
   "id": "comparable-upset",
   "metadata": {},
   "outputs": [
    {
     "data": {
      "text/plain": [
       "'2.0 out of 5 stars'"
      ]
     },
     "execution_count": 76,
     "metadata": {},
     "output_type": "execute_result"
    }
   ],
   "source": [
    "rate.pop(0)\n",
    "rate.pop(0)"
   ]
  },
  {
   "cell_type": "code",
   "execution_count": 77,
   "id": "expressed-american",
   "metadata": {},
   "outputs": [
    {
     "data": {
      "text/plain": [
       "['5.0 out of 5 stars',\n",
       " '2.0 out of 5 stars',\n",
       " '1.0 out of 5 stars',\n",
       " '1.0 out of 5 stars',\n",
       " '4.0 out of 5 stars',\n",
       " '5.0 out of 5 stars',\n",
       " '1.0 out of 5 stars',\n",
       " '5.0 out of 5 stars',\n",
       " '1.0 out of 5 stars',\n",
       " '5.0 out of 5 stars']"
      ]
     },
     "execution_count": 77,
     "metadata": {},
     "output_type": "execute_result"
    }
   ],
   "source": [
    "rate"
   ]
  },
  {
   "cell_type": "code",
   "execution_count": 78,
   "id": "electrical-factory",
   "metadata": {},
   "outputs": [],
   "source": [
    "content = soup.find_all('span', class_ = 'a-size-base review-text review-text-content')"
   ]
  },
  {
   "cell_type": "code",
   "execution_count": 79,
   "id": "specified-purple",
   "metadata": {},
   "outputs": [
    {
     "data": {
      "text/plain": [
       "[<span class=\"a-size-base review-text review-text-content\" data-hook=\"review-body\">\n",
       " <span>\n",
       "   I got this phone on Friday evening.<br/><br/>Pros:<br/>Great battery life<br/>Amazing performance<br/>Premium design<br/>Impressive rear and front camera<br/>In display fingerprint scanner is really fast<br/><br/>Cons:<br/>No headphone jack but you'll get a converter<br/>No notification LED<br/>No microSD card slot<br/><br/>I will give points on my personal experience of 2 days full usage as below:<br/><br/>Weight: 9/10<br/>OS: 10/10<br/>Screen size: 10/10<br/>CPU: 10/10<br/>Performance: 10/10<br/>Storage: 10/10 (you'll get approx 113 gb for use)<br/>Battery: 8/10<br/>Rear camera: 10/10<br/>Front camera: 10/10<br/>In display fingerprint scanner: 9/10<br/>Face unlock: 10/10<br/><br/>I hope this will help full.\n",
       " </span>\n",
       " </span>,\n",
       " <span class=\"a-size-base review-text review-text-content\" data-hook=\"review-body\">\n",
       " <span>\n",
       "   Camera quality is not upto the mark. I visited one plus store and the store representative checked my phone and compared the camera quality with his demo phone. He noticed a significant difference between the two.<br/><br/>I request Amazon to replace my phone with a new one as it is evident that this phone has some problems.\n",
       " </span>\n",
       " </span>,\n",
       " <span class=\"a-size-base review-text review-text-content\" data-hook=\"review-body\">\n",
       " <span>\n",
       "   I charged the phone completely out of the box and then turned it on.  It went to the Oneplus logo screen but did nothing after that.  No buttons work, no combinations of any buttons do anything to take it out of logo screen, it won't even turn off.  Amazon won't allow return until technician looks at the phone???  Oneplus support said take it to a service center but couldn't tell me the closest one.  Really disappointed in lack of support form both companies for a brand new product and release.  I'm sure they will now try to push a replacement but I'm not really interested in the product anymore.\n",
       " </span>\n",
       " </span>,\n",
       " <span class=\"a-size-base review-text review-text-content\" data-hook=\"review-body\">\n",
       " <span>\n",
       "   One plus 6 was costing 28k during the big billion sale and 6T costs  38k. It is not worth to spend 10 k just for some small improvements.\n",
       " </span>\n",
       " </span>,\n",
       " <span class=\"a-size-base review-text review-text-content\" data-hook=\"review-body\">\n",
       " <span>\n",
       "   Good build.<br/>amazing battery life. ( Minimum 3 days stand by along with basic use in airtel's 4g network)<br/>good accessories on op site.<br/>cool phone box packing.<br/>in display fingerprint sensor &amp; face recognition both are good.<br/>loudspeaker is decent. has a c type to 3.5mm adapter in the box.<br/>value for money. Go for it!\n",
       " </span>\n",
       " </span>,\n",
       " <span class=\"a-size-base review-text review-text-content\" data-hook=\"review-body\">\n",
       " <span>\n",
       "   Phone is simply superb in all aspects...low light performance of the camera is outstanding...you simply cannot go wrong with this phone\n",
       " </span>\n",
       " </span>,\n",
       " <span class=\"a-size-base review-text review-text-content\" data-hook=\"review-body\">\n",
       " <span>\n",
       "   Two days back I received 6T and had many problems with the mobile<br/>The mobile is getting heated when it's on camera mode or doing nothing., and while using mobile it's getting struck.. I don't think I got an original set, I'm sure it's a duplicate set.<br/>Please for god sake please exchange my mobile with a new one\n",
       " </span>\n",
       " </span>,\n",
       " <span class=\"a-size-base review-text review-text-content\" data-hook=\"review-body\">\n",
       " <span>\n",
       "   This has by far been the best phone I have ever used hands-on. Flagship Specs, Classy look, Premium Packaging and the Speed you Need!<br/>Appearance - The device looks very much similar to the OnePlus 6T upfront but it has got the speed orange highlights at the back, carbon finish and McLaren Branding at the bottom.<br/>Camera - The night mode really captures amazing pictures and the portrait mode is just amazing. The low light photography could still be improved.<br/>Battery - With average usage with full day data on, it easily lasts upto 2 days. The Warp charging is just amazing, it takes around 40-45 mins to charge from 0-100%. But you could easily get a day's charge within 20 mins.<br/>Speed - With 10 Gigs of RAM, speed should not be a question. You could open up 5 high specs games and it still wouldn't lag. And its bragging rights for sure!<br/><br/>Overall, I am really satisfied with this device and feels great to be a part of OnePlus Community! Go, get it! Its for those, who are in continuous pursuit for speed!\n",
       " </span>\n",
       " </span>,\n",
       " <span class=\"a-size-base review-text review-text-content\" data-hook=\"review-body\">\n",
       " <span>\n",
       "   Battery-Extremely Poor<br/>Camera-Satisfactory<br/>Look-Good<br/>Weight-Good<br/>Sound-Superb<br/><br/>Overall I would have given it half star,deeply through by it's battery.<br/>And even after the replacement,the same problem persists,which means it's a clear cut case of faulty manufacturing.<br/><br/>Please don't buy it,if you really love your hard earned money.....\n",
       " </span>\n",
       " </span>,\n",
       " <span class=\"a-size-base review-text review-text-content\" data-hook=\"review-body\">\n",
       " <span>\n",
       "   After replace the handset issue was resolved. Now i unlocked the speed i need.\n",
       " </span>\n",
       " </span>]"
      ]
     },
     "execution_count": 79,
     "metadata": {},
     "output_type": "execute_result"
    }
   ],
   "source": [
    "content"
   ]
  },
  {
   "cell_type": "code",
   "execution_count": 82,
   "id": "coordinated-sydney",
   "metadata": {},
   "outputs": [
    {
     "data": {
      "text/plain": [
       "[\"\\n\\n  I got this phone on Friday evening.Pros:Great battery lifeAmazing performancePremium designImpressive rear and front cameraIn display fingerprint scanner is really fastCons:No headphone jack but you'll get a converterNo notification LEDNo microSD card slotI will give points on my personal experience of 2 days full usage as below:Weight: 9/10OS: 10/10Screen size: 10/10CPU: 10/10Performance: 10/10Storage: 10/10 (you'll get approx 113 gb for use)Battery: 8/10Rear camera: 10/10Front camera: 10/10In display fingerprint scanner: 9/10Face unlock: 10/10I hope this will help full.\\n\\n\",\n",
       " '\\n\\n  Camera quality is not upto the mark. I visited one plus store and the store representative checked my phone and compared the camera quality with his demo phone. He noticed a significant difference between the two.I request Amazon to replace my phone with a new one as it is evident that this phone has some problems.\\n\\n',\n",
       " \"\\n\\n  I charged the phone completely out of the box and then turned it on.  It went to the Oneplus logo screen but did nothing after that.  No buttons work, no combinations of any buttons do anything to take it out of logo screen, it won't even turn off.  Amazon won't allow return until technician looks at the phone???  Oneplus support said take it to a service center but couldn't tell me the closest one.  Really disappointed in lack of support form both companies for a brand new product and release.  I'm sure they will now try to push a replacement but I'm not really interested in the product anymore.\\n\\n\",\n",
       " '\\n\\n  One plus 6 was costing 28k during the big billion sale and 6T costs  38k. It is not worth to spend 10 k just for some small improvements.\\n\\n',\n",
       " \"\\n\\n  Good build.amazing battery life. ( Minimum 3 days stand by along with basic use in airtel's 4g network)good accessories on op site.cool phone box packing.in display fingerprint sensor & face recognition both are good.loudspeaker is decent. has a c type to 3.5mm adapter in the box.value for money. Go for it!\\n\\n\",\n",
       " '\\n\\n  Phone is simply superb in all aspects...low light performance of the camera is outstanding...you simply cannot go wrong with this phone\\n\\n',\n",
       " \"\\n\\n  Two days back I received 6T and had many problems with the mobileThe mobile is getting heated when it's on camera mode or doing nothing., and while using mobile it's getting struck.. I don't think I got an original set, I'm sure it's a duplicate set.Please for god sake please exchange my mobile with a new one\\n\\n\",\n",
       " \"\\n\\n  This has by far been the best phone I have ever used hands-on. Flagship Specs, Classy look, Premium Packaging and the Speed you Need!Appearance - The device looks very much similar to the OnePlus 6T upfront but it has got the speed orange highlights at the back, carbon finish and McLaren Branding at the bottom.Camera - The night mode really captures amazing pictures and the portrait mode is just amazing. The low light photography could still be improved.Battery - With average usage with full day data on, it easily lasts upto 2 days. The Warp charging is just amazing, it takes around 40-45 mins to charge from 0-100%. But you could easily get a day's charge within 20 mins.Speed - With 10 Gigs of RAM, speed should not be a question. You could open up 5 high specs games and it still wouldn't lag. And its bragging rights for sure!Overall, I am really satisfied with this device and feels great to be a part of OnePlus Community! Go, get it! Its for those, who are in continuous pursuit for speed!\\n\\n\",\n",
       " \"\\n\\n  Battery-Extremely PoorCamera-SatisfactoryLook-GoodWeight-GoodSound-SuperbOverall I would have given it half star,deeply through by it's battery.And even after the replacement,the same problem persists,which means it's a clear cut case of faulty manufacturing.Please don't buy it,if you really love your hard earned money.....\\n\\n\",\n",
       " '\\n\\n  After replace the handset issue was resolved. Now i unlocked the speed i need.\\n\\n']"
      ]
     },
     "execution_count": 82,
     "metadata": {},
     "output_type": "execute_result"
    }
   ],
   "source": [
    "body = []\n",
    "for i in range(0, len(content)):\n",
    "    body.append(content[i].get_text())\n",
    "body"
   ]
  },
  {
   "cell_type": "code",
   "execution_count": 83,
   "id": "wanted-arkansas",
   "metadata": {},
   "outputs": [],
   "source": [
    "body[:] = [content.lstrip('\\n') for content in body]\n",
    "body[:] = [content.rstrip('\\n') for content in body]"
   ]
  },
  {
   "cell_type": "code",
   "execution_count": 84,
   "id": "aboriginal-winner",
   "metadata": {},
   "outputs": [
    {
     "data": {
      "text/plain": [
       "[\"  I got this phone on Friday evening.Pros:Great battery lifeAmazing performancePremium designImpressive rear and front cameraIn display fingerprint scanner is really fastCons:No headphone jack but you'll get a converterNo notification LEDNo microSD card slotI will give points on my personal experience of 2 days full usage as below:Weight: 9/10OS: 10/10Screen size: 10/10CPU: 10/10Performance: 10/10Storage: 10/10 (you'll get approx 113 gb for use)Battery: 8/10Rear camera: 10/10Front camera: 10/10In display fingerprint scanner: 9/10Face unlock: 10/10I hope this will help full.\",\n",
       " '  Camera quality is not upto the mark. I visited one plus store and the store representative checked my phone and compared the camera quality with his demo phone. He noticed a significant difference between the two.I request Amazon to replace my phone with a new one as it is evident that this phone has some problems.',\n",
       " \"  I charged the phone completely out of the box and then turned it on.  It went to the Oneplus logo screen but did nothing after that.  No buttons work, no combinations of any buttons do anything to take it out of logo screen, it won't even turn off.  Amazon won't allow return until technician looks at the phone???  Oneplus support said take it to a service center but couldn't tell me the closest one.  Really disappointed in lack of support form both companies for a brand new product and release.  I'm sure they will now try to push a replacement but I'm not really interested in the product anymore.\",\n",
       " '  One plus 6 was costing 28k during the big billion sale and 6T costs  38k. It is not worth to spend 10 k just for some small improvements.',\n",
       " \"  Good build.amazing battery life. ( Minimum 3 days stand by along with basic use in airtel's 4g network)good accessories on op site.cool phone box packing.in display fingerprint sensor & face recognition both are good.loudspeaker is decent. has a c type to 3.5mm adapter in the box.value for money. Go for it!\",\n",
       " '  Phone is simply superb in all aspects...low light performance of the camera is outstanding...you simply cannot go wrong with this phone',\n",
       " \"  Two days back I received 6T and had many problems with the mobileThe mobile is getting heated when it's on camera mode or doing nothing., and while using mobile it's getting struck.. I don't think I got an original set, I'm sure it's a duplicate set.Please for god sake please exchange my mobile with a new one\",\n",
       " \"  This has by far been the best phone I have ever used hands-on. Flagship Specs, Classy look, Premium Packaging and the Speed you Need!Appearance - The device looks very much similar to the OnePlus 6T upfront but it has got the speed orange highlights at the back, carbon finish and McLaren Branding at the bottom.Camera - The night mode really captures amazing pictures and the portrait mode is just amazing. The low light photography could still be improved.Battery - With average usage with full day data on, it easily lasts upto 2 days. The Warp charging is just amazing, it takes around 40-45 mins to charge from 0-100%. But you could easily get a day's charge within 20 mins.Speed - With 10 Gigs of RAM, speed should not be a question. You could open up 5 high specs games and it still wouldn't lag. And its bragging rights for sure!Overall, I am really satisfied with this device and feels great to be a part of OnePlus Community! Go, get it! Its for those, who are in continuous pursuit for speed!\",\n",
       " \"  Battery-Extremely PoorCamera-SatisfactoryLook-GoodWeight-GoodSound-SuperbOverall I would have given it half star,deeply through by it's battery.And even after the replacement,the same problem persists,which means it's a clear cut case of faulty manufacturing.Please don't buy it,if you really love your hard earned money.....\",\n",
       " '  After replace the handset issue was resolved. Now i unlocked the speed i need.']"
      ]
     },
     "execution_count": 84,
     "metadata": {},
     "output_type": "execute_result"
    }
   ],
   "source": [
    "body"
   ]
  },
  {
   "cell_type": "code",
   "execution_count": 87,
   "id": "dense-merchandise",
   "metadata": {},
   "outputs": [
    {
     "data": {
      "text/plain": [
       "[\"  I got this phone on Friday evening.Pros:Great battery lifeAmazing performancePremium designImpressive rear and front cameraIn display fingerprint scanner is really fastCons:No headphone jack but you'll get a converterNo notification LEDNo microSD card slotI will give points on my personal experience of 2 days full usage as below:Weight: 9/10OS: 10/10Screen size: 10/10CPU: 10/10Performance: 10/10Storage: 10/10 (you'll get approx 113 gb for use)Battery: 8/10Rear camera: 10/10Front camera: 10/10In display fingerprint scanner: 9/10Face unlock: 10/10I hope this will help full.\",\n",
       " '  Camera quality is not upto the mark. I visited one plus store and the store representative checked my phone and compared the camera quality with his demo phone. He noticed a significant difference between the two.I request Amazon to replace my phone with a new one as it is evident that this phone has some problems.',\n",
       " \"  I charged the phone completely out of the box and then turned it on.  It went to the Oneplus logo screen but did nothing after that.  No buttons work, no combinations of any buttons do anything to take it out of logo screen, it won't even turn off.  Amazon won't allow return until technician looks at the phone???  Oneplus support said take it to a service center but couldn't tell me the closest one.  Really disappointed in lack of support form both companies for a brand new product and release.  I'm sure they will now try to push a replacement but I'm not really interested in the product anymore.\",\n",
       " '  One plus 6 was costing 28k during the big billion sale and 6T costs  38k. It is not worth to spend 10 k just for some small improvements.',\n",
       " \"  Good build.amazing battery life. ( Minimum 3 days stand by along with basic use in airtel's 4g network)good accessories on op site.cool phone box packing.in display fingerprint sensor & face recognition both are good.loudspeaker is decent. has a c type to 3.5mm adapter in the box.value for money. Go for it!\",\n",
       " '  Phone is simply superb in all aspects...low light performance of the camera is outstanding...you simply cannot go wrong with this phone',\n",
       " \"  Two days back I received 6T and had many problems with the mobileThe mobile is getting heated when it's on camera mode or doing nothing., and while using mobile it's getting struck.. I don't think I got an original set, I'm sure it's a duplicate set.Please for god sake please exchange my mobile with a new one\",\n",
       " \"  This has by far been the best phone I have ever used hands-on. Flagship Specs, Classy look, Premium Packaging and the Speed you Need!Appearance - The device looks very much similar to the OnePlus 6T upfront but it has got the speed orange highlights at the back, carbon finish and McLaren Branding at the bottom.Camera - The night mode really captures amazing pictures and the portrait mode is just amazing. The low light photography could still be improved.Battery - With average usage with full day data on, it easily lasts upto 2 days. The Warp charging is just amazing, it takes around 40-45 mins to charge from 0-100%. But you could easily get a day's charge within 20 mins.Speed - With 10 Gigs of RAM, speed should not be a question. You could open up 5 high specs games and it still wouldn't lag. And its bragging rights for sure!Overall, I am really satisfied with this device and feels great to be a part of OnePlus Community! Go, get it! Its for those, who are in continuous pursuit for speed!\",\n",
       " \"  Battery-Extremely PoorCamera-SatisfactoryLook-GoodWeight-GoodSound-SuperbOverall I would have given it half star,deeply through by it's battery.And even after the replacement,the same problem persists,which means it's a clear cut case of faulty manufacturing.Please don't buy it,if you really love your hard earned money.....\",\n",
       " '  After replace the handset issue was resolved. Now i unlocked the speed i need.']"
      ]
     },
     "execution_count": 87,
     "metadata": {},
     "output_type": "execute_result"
    }
   ],
   "source": [
    "customer_names\n",
    "review_title\n",
    "rate\n",
    "body"
   ]
  },
  {
   "cell_type": "code",
   "execution_count": 88,
   "id": "anonymous-infection",
   "metadata": {},
   "outputs": [],
   "source": [
    "import pandas as pd"
   ]
  },
  {
   "cell_type": "code",
   "execution_count": 89,
   "id": "logical-commissioner",
   "metadata": {},
   "outputs": [],
   "source": [
    "df = pd.DataFrame()"
   ]
  },
  {
   "cell_type": "code",
   "execution_count": 90,
   "id": "entitled-guinea",
   "metadata": {},
   "outputs": [
    {
     "data": {
      "text/html": [
       "<div>\n",
       "<style scoped>\n",
       "    .dataframe tbody tr th:only-of-type {\n",
       "        vertical-align: middle;\n",
       "    }\n",
       "\n",
       "    .dataframe tbody tr th {\n",
       "        vertical-align: top;\n",
       "    }\n",
       "\n",
       "    .dataframe thead th {\n",
       "        text-align: right;\n",
       "    }\n",
       "</style>\n",
       "<table border=\"1\" class=\"dataframe\">\n",
       "  <thead>\n",
       "    <tr style=\"text-align: right;\">\n",
       "      <th></th>\n",
       "      <th>Customer Name</th>\n",
       "    </tr>\n",
       "  </thead>\n",
       "  <tbody>\n",
       "    <tr>\n",
       "      <th>0</th>\n",
       "      <td>Tanmay Shukla</td>\n",
       "    </tr>\n",
       "    <tr>\n",
       "      <th>1</th>\n",
       "      <td>Surbhi Garg</td>\n",
       "    </tr>\n",
       "    <tr>\n",
       "      <th>2</th>\n",
       "      <td>klknow</td>\n",
       "    </tr>\n",
       "    <tr>\n",
       "      <th>3</th>\n",
       "      <td>abdulkadir garari</td>\n",
       "    </tr>\n",
       "    <tr>\n",
       "      <th>4</th>\n",
       "      <td>Anshu K.</td>\n",
       "    </tr>\n",
       "    <tr>\n",
       "      <th>5</th>\n",
       "      <td>nagaraj s.</td>\n",
       "    </tr>\n",
       "    <tr>\n",
       "      <th>6</th>\n",
       "      <td>Regidi Mahesh Dora</td>\n",
       "    </tr>\n",
       "    <tr>\n",
       "      <th>7</th>\n",
       "      <td>Aakash Sinha</td>\n",
       "    </tr>\n",
       "    <tr>\n",
       "      <th>8</th>\n",
       "      <td>Mumtaz Alam</td>\n",
       "    </tr>\n",
       "    <tr>\n",
       "      <th>9</th>\n",
       "      <td>Vaibhav Narvaria</td>\n",
       "    </tr>\n",
       "  </tbody>\n",
       "</table>\n",
       "</div>"
      ],
      "text/plain": [
       "        Customer Name\n",
       "0       Tanmay Shukla\n",
       "1         Surbhi Garg\n",
       "2              klknow\n",
       "3   abdulkadir garari\n",
       "4            Anshu K.\n",
       "5          nagaraj s.\n",
       "6  Regidi Mahesh Dora\n",
       "7        Aakash Sinha\n",
       "8         Mumtaz Alam\n",
       "9    Vaibhav Narvaria"
      ]
     },
     "execution_count": 90,
     "metadata": {},
     "output_type": "execute_result"
    }
   ],
   "source": [
    "df[\"Customer Name\"] = customer_names\n",
    "df"
   ]
  },
  {
   "cell_type": "code",
   "execution_count": 91,
   "id": "capable-arrow",
   "metadata": {},
   "outputs": [],
   "source": [
    "df[\"Review Title\"] = review_title\n",
    "df[\"Rate\"] = rate\n",
    "df[\"Body\"] = body"
   ]
  },
  {
   "cell_type": "code",
   "execution_count": 92,
   "id": "functional-destruction",
   "metadata": {},
   "outputs": [
    {
     "data": {
      "text/html": [
       "<div>\n",
       "<style scoped>\n",
       "    .dataframe tbody tr th:only-of-type {\n",
       "        vertical-align: middle;\n",
       "    }\n",
       "\n",
       "    .dataframe tbody tr th {\n",
       "        vertical-align: top;\n",
       "    }\n",
       "\n",
       "    .dataframe thead th {\n",
       "        text-align: right;\n",
       "    }\n",
       "</style>\n",
       "<table border=\"1\" class=\"dataframe\">\n",
       "  <thead>\n",
       "    <tr style=\"text-align: right;\">\n",
       "      <th></th>\n",
       "      <th>Customer Name</th>\n",
       "      <th>Review Title</th>\n",
       "      <th>Rate</th>\n",
       "      <th>Body</th>\n",
       "    </tr>\n",
       "  </thead>\n",
       "  <tbody>\n",
       "    <tr>\n",
       "      <th>0</th>\n",
       "      <td>Tanmay Shukla</td>\n",
       "      <td>Flagship Killer</td>\n",
       "      <td>5.0 out of 5 stars</td>\n",
       "      <td>I got this phone on Friday evening.Pros:Grea...</td>\n",
       "    </tr>\n",
       "    <tr>\n",
       "      <th>1</th>\n",
       "      <td>Surbhi Garg</td>\n",
       "      <td>Camera quality is very poor.</td>\n",
       "      <td>2.0 out of 5 stars</td>\n",
       "      <td>Camera quality is not upto the mark. I visit...</td>\n",
       "    </tr>\n",
       "    <tr>\n",
       "      <th>2</th>\n",
       "      <td>klknow</td>\n",
       "      <td>Dead on arrival</td>\n",
       "      <td>1.0 out of 5 stars</td>\n",
       "      <td>I charged the phone completely out of the bo...</td>\n",
       "    </tr>\n",
       "    <tr>\n",
       "      <th>3</th>\n",
       "      <td>abdulkadir garari</td>\n",
       "      <td>Not worth to buy 6T</td>\n",
       "      <td>1.0 out of 5 stars</td>\n",
       "      <td>One plus 6 was costing 28k during the big bi...</td>\n",
       "    </tr>\n",
       "    <tr>\n",
       "      <th>4</th>\n",
       "      <td>Anshu K.</td>\n",
       "      <td>Beautiful phone</td>\n",
       "      <td>4.0 out of 5 stars</td>\n",
       "      <td>Good build.amazing battery life. ( Minimum 3...</td>\n",
       "    </tr>\n",
       "    <tr>\n",
       "      <th>5</th>\n",
       "      <td>nagaraj s.</td>\n",
       "      <td>Awesome value for the money</td>\n",
       "      <td>5.0 out of 5 stars</td>\n",
       "      <td>Phone is simply superb in all aspects...low ...</td>\n",
       "    </tr>\n",
       "    <tr>\n",
       "      <th>6</th>\n",
       "      <td>Regidi Mahesh Dora</td>\n",
       "      <td>NO WAY GOING TO BE A CUSTOMER OF A COMPANY (On...</td>\n",
       "      <td>1.0 out of 5 stars</td>\n",
       "      <td>Two days back I received 6T and had many pro...</td>\n",
       "    </tr>\n",
       "    <tr>\n",
       "      <th>7</th>\n",
       "      <td>Aakash Sinha</td>\n",
       "      <td>OnePlust 6T McLaren Edition - Salute to Speed!</td>\n",
       "      <td>5.0 out of 5 stars</td>\n",
       "      <td>This has by far been the best phone I have e...</td>\n",
       "    </tr>\n",
       "    <tr>\n",
       "      <th>8</th>\n",
       "      <td>Mumtaz Alam</td>\n",
       "      <td>Waste of money</td>\n",
       "      <td>1.0 out of 5 stars</td>\n",
       "      <td>Battery-Extremely PoorCamera-SatisfactoryLoo...</td>\n",
       "    </tr>\n",
       "    <tr>\n",
       "      <th>9</th>\n",
       "      <td>Vaibhav Narvaria</td>\n",
       "      <td>Superb phone</td>\n",
       "      <td>5.0 out of 5 stars</td>\n",
       "      <td>After replace the handset issue was resolved...</td>\n",
       "    </tr>\n",
       "  </tbody>\n",
       "</table>\n",
       "</div>"
      ],
      "text/plain": [
       "        Customer Name                                       Review Title  \\\n",
       "0       Tanmay Shukla                                    Flagship Killer   \n",
       "1         Surbhi Garg                       Camera quality is very poor.   \n",
       "2              klknow                                    Dead on arrival   \n",
       "3   abdulkadir garari                                Not worth to buy 6T   \n",
       "4            Anshu K.                                    Beautiful phone   \n",
       "5          nagaraj s.                        Awesome value for the money   \n",
       "6  Regidi Mahesh Dora  NO WAY GOING TO BE A CUSTOMER OF A COMPANY (On...   \n",
       "7        Aakash Sinha     OnePlust 6T McLaren Edition - Salute to Speed!   \n",
       "8         Mumtaz Alam                                     Waste of money   \n",
       "9    Vaibhav Narvaria                                       Superb phone   \n",
       "\n",
       "                 Rate                                               Body  \n",
       "0  5.0 out of 5 stars    I got this phone on Friday evening.Pros:Grea...  \n",
       "1  2.0 out of 5 stars    Camera quality is not upto the mark. I visit...  \n",
       "2  1.0 out of 5 stars    I charged the phone completely out of the bo...  \n",
       "3  1.0 out of 5 stars    One plus 6 was costing 28k during the big bi...  \n",
       "4  4.0 out of 5 stars    Good build.amazing battery life. ( Minimum 3...  \n",
       "5  5.0 out of 5 stars    Phone is simply superb in all aspects...low ...  \n",
       "6  1.0 out of 5 stars    Two days back I received 6T and had many pro...  \n",
       "7  5.0 out of 5 stars    This has by far been the best phone I have e...  \n",
       "8  1.0 out of 5 stars    Battery-Extremely PoorCamera-SatisfactoryLoo...  \n",
       "9  5.0 out of 5 stars    After replace the handset issue was resolved...  "
      ]
     },
     "execution_count": 92,
     "metadata": {},
     "output_type": "execute_result"
    }
   ],
   "source": [
    "df"
   ]
  },
  {
   "cell_type": "code",
   "execution_count": 97,
   "id": "italian-remedy",
   "metadata": {},
   "outputs": [],
   "source": [
    "df.to_csv(r\"D:\\Practice\\jupyter\\Online Coding Internship\\Society For Health And Medical Technology\\Data_Scrapping\\review.csv\" ,index = True)"
   ]
  },
  {
   "cell_type": "code",
   "execution_count": null,
   "id": "excellent-thanks",
   "metadata": {},
   "outputs": [],
   "source": []
  }
 ],
 "metadata": {
  "kernelspec": {
   "display_name": "Python 3",
   "language": "python",
   "name": "python3"
  },
  "language_info": {
   "codemirror_mode": {
    "name": "ipython",
    "version": 3
   },
   "file_extension": ".py",
   "mimetype": "text/x-python",
   "name": "python",
   "nbconvert_exporter": "python",
   "pygments_lexer": "ipython3",
   "version": "3.7.9"
  }
 },
 "nbformat": 4,
 "nbformat_minor": 5
}
